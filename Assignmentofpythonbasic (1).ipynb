{
 "cells": [
  {
   "cell_type": "code",
   "execution_count": null,
   "id": "485ff48b-1f5f-4c36-b5b1-b8da7a5b38e7",
   "metadata": {},
   "outputs": [],
   "source": [
    "#PYTHON BASIC\n",
    "\"\"\"Q1.What is Python, and why is it popular?\n",
    "Ans. python is a high-level, interpreted programming language known for its simplicity and readability. It is popular because of its versatile libraries, community support, and its use in web development, data analysis, artificial intelligence, and scientific computing.\"\"\""
   ]
  },
  {
   "cell_type": "code",
   "execution_count": null,
   "id": "2794d2a3-6921-4c86-a67b-ea9b98941b21",
   "metadata": {},
   "outputs": [],
   "source": [
    "\"\"\"Q2.What is an interpreter in Python?\n",
    "Ans.An interpreter is a program that executes Python code line by line, converting it into machine-readable instructions.\"\"\"\n",
    "\n"
   ]
  },
  {
   "cell_type": "code",
   "execution_count": null,
   "id": "37e0ec28-e137-4bde-a1ee-fad442fc3aac",
   "metadata": {},
   "outputs": [],
   "source": [
    "\"\"\"Q3.What are pre-defined keywords in Python?\n",
    "Ans.Pre-defined keywords are reserved words in Python with special meanings and cannot be used as identifiers. Examples include if, else, for, while, and def.\"\"\"\n",
    "\n"
   ]
  },
  {
   "cell_type": "raw",
   "id": "f7120566-e688-4222-a15d-84d0c3defad2",
   "metadata": {},
   "source": [
    "\"\"\"Q4.Can keywords be used as variable names?\n",
    "Ans.No, keywords cannot be used as variable names in Python because they are reserved for specific operations.\"\"\"\n",
    "\n"
   ]
  },
  {
   "cell_type": "code",
   "execution_count": null,
   "id": "530910e2-f1d1-4199-aa8d-022a4ab00be5",
   "metadata": {},
   "outputs": [],
   "source": [
    "\"\"\"Q4.What is mutability in Python?\n",
    "Ans.Mutability refers to the ability of an object to be changed after it has been created. Mutable objects can be modified, whereas immutable objects cannot.\"\"\""
   ]
  },
  {
   "cell_type": "code",
   "execution_count": null,
   "id": "1f52db04-c7ac-4c53-902b-401b494c590f",
   "metadata": {},
   "outputs": [],
   "source": [
    "\"\"\"Q5.Why are lists mutable, but tuples are immutable?\n",
    "Ans.Lists are mutable because they allow changes to their elements or structure, making them flexible for dynamic data. Tuples are immutable to ensure data integrity and to optimize performance in scenarios where data should remain constant.\"\"\""
   ]
  },
  {
   "cell_type": "code",
   "execution_count": null,
   "id": "f94ace88-375a-407c-a0a4-eba476551a50",
   "metadata": {},
   "outputs": [],
   "source": [
    "\"\"\"Q6.What is the difference between “==” and “is” operators in Python?\n",
    "Ans. == compares the values of two objects.\n",
    "is checks if two objects refer to the same memory location.\"\"\""
   ]
  },
  {
   "cell_type": "code",
   "execution_count": null,
   "id": "ddf5fe53-ba57-4a58-894e-69832fabf988",
   "metadata": {},
   "outputs": [],
   "source": [
    "\"\"\"Q8.What are logical operators in Python?\n",
    "Ans. Logical operators in Python include:\n",
    "     and: Returns True if both conditions are True.\n",
    "     or: Returns True if at least one condition is True.\n",
    "     not: Reverses the logical state of its operand.\"\"\"\n"
   ]
  },
  {
   "cell_type": "code",
   "execution_count": null,
   "id": "dd63124b-4a94-43f0-9e40-89b9d534c94f",
   "metadata": {},
   "outputs": [],
   "source": [
    "\"\"\"Q9. What is type casting in Python?\n",
    "Ans.Type casting is converting one data type to another, such as from string to integer or float.\"\"\"\n",
    "\n"
   ]
  },
  {
   "cell_type": "code",
   "execution_count": null,
   "id": "fbd9dc79-1c15-4cb4-87e4-1903a0531182",
   "metadata": {},
   "outputs": [],
   "source": [
    "\"\"\"Q10.What is the difference between implicit and explicit type casting?\n",
    "Ans.Implicit type casting: Automatically performed by Python.\n",
    "    Explicit type casting: Manually performed using functions like int(), float(), or str().\"\"\""
   ]
  },
  {
   "cell_type": "code",
   "execution_count": null,
   "id": "984f4275-718c-461a-8437-67ff3e19df30",
   "metadata": {},
   "outputs": [],
   "source": [
    "\"\"\"Q11.What is the purpose of conditional statements in Python?\n",
    "Ans.Conditional statements allow decisions in code execution based on specific conditions.\"\"\"\n",
    "\n"
   ]
  },
  {
   "cell_type": "code",
   "execution_count": null,
   "id": "67a13b87-cec8-405a-8d11-ee4191914b01",
   "metadata": {},
   "outputs": [],
   "source": [
    "\"\"\"Q12.How does the elif statement work?\n",
    "Ans.The elif statement allows multiple conditions to be checked sequentially until one is true.\"\"\""
   ]
  },
  {
   "cell_type": "code",
   "execution_count": null,
   "id": "db4a5742-38b6-4d82-a9b3-d590ce883fa2",
   "metadata": {},
   "outputs": [],
   "source": [
    "\"\"\"Q13.What is the difference between for and while loops?\n",
    "Ans.for loop iterates over a sequence (like a list or range).\n",
    "    while loop runs as long as a condition is true.\"\"\""
   ]
  },
  {
   "cell_type": "code",
   "execution_count": null,
   "id": "63b5445d-bd91-4ddc-ae11-faceeff71ade",
   "metadata": {},
   "outputs": [],
   "source": [
    "\"\"\"Q14.Describe a scenario where a while loop is more suitable than a for loop.\n",
    "Ans.A while loop is suitable when the number of iterations           depends on a condition rather than a fixed range, such as        waiting for user input.\"\"\""
   ]
  },
  {
   "cell_type": "raw",
   "id": "16625fed-7d2b-457b-8555-eca187dbc25b",
   "metadata": {},
   "source": [
    "#CODE"
   ]
  },
  {
   "cell_type": "code",
   "execution_count": 1,
   "id": "0b92ffd9-aacc-42cc-b151-19289c21da34",
   "metadata": {},
   "outputs": [
    {
     "name": "stdout",
     "output_type": "stream",
     "text": [
      "Hello, World!\n"
     ]
    }
   ],
   "source": [
    "'''Q1.Write a Python program to print \"Hello, World!\":\n",
    "python'''\n",
    "print(\"Hello, World!\")\n",
    "\n"
   ]
  },
  {
   "cell_type": "code",
   "execution_count": 3,
   "id": "a549d92c-c883-4d8c-946f-de3c9c5b807b",
   "metadata": {},
   "outputs": [
    {
     "name": "stdout",
     "output_type": "stream",
     "text": [
      "My name is {ADNAN} and I am {21} years old.\n"
     ]
    }
   ],
   "source": [
    "'''Q2.Write a Python program that displays your name and age:\n",
    "python'''\n",
    "name = \"Your Name\"\n",
    "age = 21\n",
    "print(\"My name is {ADNAN} and I am {21} years old.\")\n",
    "\n"
   ]
  },
  {
   "cell_type": "code",
   "execution_count": 15,
   "id": "d3dfba27-7ed5-4c37-a30c-ca8ba852272e",
   "metadata": {},
   "outputs": [
    {
     "name": "stdout",
     "output_type": "stream",
     "text": [
      "['False', 'None', 'True', 'and', 'as', 'assert', 'async', 'await', 'break', 'class', 'continue', 'def', 'del', 'elif', 'else', 'except', 'finally', 'for', 'from', 'global', 'if', 'import', 'in', 'is', 'lambda', 'nonlocal', 'not', 'or', 'pass', 'raise', 'return', 'try', 'while', 'with', 'yield']\n"
     ]
    }
   ],
   "source": [
    "'''Q3.Write code to print all the pre-defined keywords in Python using the keyword library:'''\n",
    "import keyword\n",
    "print(keyword.kwlist)\n"
   ]
  },
  {
   "cell_type": "code",
   "execution_count": 23,
   "id": "79fff0e0-8691-4564-8835-f2a4c77b5e49",
   "metadata": {},
   "outputs": [
    {
     "name": "stdin",
     "output_type": "stream",
     "text": [
      "Enter a word:  False\n"
     ]
    },
    {
     "name": "stdout",
     "output_type": "stream",
     "text": [
      "False is a Python keyword.\n"
     ]
    }
   ],
   "source": [
    "'''Q4.Write a program that checks if a given word is a Python keyword:'''\n",
    "import keyword\n",
    "word = input(\"Enter a word: \")\n",
    "if keyword.iskeyword(word):\n",
    "    print(f\"{word} is a Python keyword.\")\n",
    "else:\n",
    "    print(f\"{word} is not a Python keyword.\")\n",
    "\n"
   ]
  },
  {
   "cell_type": "code",
   "execution_count": 32,
   "id": "bff92cb1-068a-4e89-987c-2e3ed18e44eb",
   "metadata": {},
   "outputs": [
    {
     "name": "stdout",
     "output_type": "stream",
     "text": [
      "Modified list: [10, 2, 3]\n",
      "Cannot modify a 2list!\n"
     ]
    }
   ],
   "source": [
    "'''Q5.Create a list and tuple in Python, and demonstrate how attempting to change an element works differently for each:'''\n",
    "my_list = [1, 2, 3]\n",
    "my_2list = (1, 2, 3)\n",
    "\n",
    "# Modifying list\n",
    "my_list[0] = 10\n",
    "print(\"Modified list:\", my_list)\n",
    "\n",
    "# Attempting to modify tuple\n",
    "try:\n",
    "    my_2list[0] = 10\n",
    "except TypeError:\n",
    "    print(\"Cannot modify a 2list!\")\n"
   ]
  },
  {
   "cell_type": "code",
   "execution_count": 13,
   "id": "d8440a96-0c6f-4d55-8ca7-47d099b38a87",
   "metadata": {},
   "outputs": [
    {
     "name": "stdout",
     "output_type": "stream",
     "text": [
      "Inside function (mutable): [1, 2, 5, 4]\n",
      "Inside function (immutable): Pwskill\n",
      "Outside function (mutable): [1, 2, 5, 4]\n",
      "Outside function (immutable): pwskill\n"
     ]
    }
   ],
   "source": [
    "'''Q6.Write a function to demonstrate the behavior of mutable and immutable arguments:'''\n",
    "# Function to demonstrate mutable and immutable arguments\n",
    "def demonstrate_behavior(mutable_arg, immutable_arg):\n",
    "    # Modifying the mutable argument (list)\n",
    "    mutable_arg[2] = 5  # Changes the original list\n",
    "    print(\"Inside function (mutable):\", mutable_arg)\n",
    "\n",
    "    # Attempting to modify the immutable argument (string)\n",
    "    immutable_arg = immutable_arg.replace(\"p\", \"P\")  # Creates a new string\n",
    "    print(\"Inside function (immutable):\", immutable_arg)\n",
    "\n",
    "\n",
    "# Mutable argument: list\n",
    "list_cont = [1, 2, 3, 4]\n",
    "\n",
    "# Immutable argument: string\n",
    "block = \"pwskill\"\n",
    "\n",
    "# Call the function\n",
    "demonstrate_behavior(list_cont, block)\n",
    "\n",
    "# Check results after function call\n",
    "print(\"Outside function (mutable):\", list_cont)  # List is modified\n",
    "print(\"Outside function (immutable):\", block)   # String remains unchanged\n"
   ]
  },
  {
   "cell_type": "code",
   "execution_count": 79,
   "id": "25813484-850e-4c68-9c50-71a82e55d261",
   "metadata": {},
   "outputs": [
    {
     "name": "stdout",
     "output_type": "stream",
     "text": [
      "False\n",
      "True\n",
      "True\n"
     ]
    }
   ],
   "source": [
    "'''Q7 Write a program to demonstrate the use of logical operators:'''\n",
    "#Ans.\n",
    "x = 5\n",
    "y = 10\n",
    "print(x==y and x>y) #and operator\n",
    "print(x!=y or x==y) # or operator\n",
    "print(not False and  not False)  # not operator\n",
    "\n",
    "\n",
    "    \n"
   ]
  },
  {
   "cell_type": "code",
   "execution_count": 11,
   "id": "acb000c9-7f2b-4281-aa3b-ff3135b3b003",
   "metadata": {
    "scrolled": true
   },
   "outputs": [
    {
     "name": "stdin",
     "output_type": "stream",
     "text": [
      "name : adnan\n",
      "age: 21\n",
      "marks: 99.9\n",
      "boolean(True/False): True\n"
     ]
    },
    {
     "name": "stdout",
     "output_type": "stream",
     "text": [
      "<class 'str'>\n",
      "<class 'int'>\n",
      "<class 'float'>\n",
      "<class 'bool'>\n"
     ]
    }
   ],
   "source": [
    "'''Q8.Write a Python program to convert user input from string to integer, float, and boolean types:'''\n",
    "\n",
    "name = input(\"name :\")\n",
    "age = input(\"age:\")\n",
    "marks = input(\"marks:\")\n",
    "boolean = input(\"boolean(True/False):\")\n",
    "print(type(name))\n",
    "print(type(int(age)))\n",
    "print(type(float(marks)))\n",
    "print(type(bool(boolean)))\n"
   ]
  },
  {
   "cell_type": "code",
   "execution_count": 9,
   "id": "63f408cc-d349-45bb-b3ec-a887007d7f9b",
   "metadata": {},
   "outputs": [
    {
     "name": "stdout",
     "output_type": "stream",
     "text": [
      "[1, '2', '3']\n"
     ]
    }
   ],
   "source": [
    "'Q9 Write code to demonstrate type casting with list elements:'\n",
    "# Original list of strings\n",
    "list1 = [\"1\", \"2\", \"3\"]\n",
    "\n",
    "# Type casting the first element from string to integer\n",
    "list1[0] = int(list1[0])\n",
    "\n",
    "# Print the list after type casting\n",
    "print(list1)\n"
   ]
  },
  {
   "cell_type": "code",
   "execution_count": 17,
   "id": "aab7be7b-a942-4482-9073-5e74d7a51de2",
   "metadata": {},
   "outputs": [
    {
     "name": "stdin",
     "output_type": "stream",
     "text": [
      "Enter a number:  10\n"
     ]
    },
    {
     "name": "stdout",
     "output_type": "stream",
     "text": [
      "Positive number\n"
     ]
    }
   ],
   "source": [
    "\n",
    "'''Q10.Write a program that checks if a number is positive, negative, or zero:''' \n",
    "num = float(input(\"Enter a number: \"))\n",
    "if num > 0:\n",
    "    print(\"Positive number\")\n",
    "elif num < 0:\n",
    "    print(\"Negative number\")\n",
    "else:\n",
    "    print(\"Zero\")\n"
   ]
  },
  {
   "cell_type": "code",
   "execution_count": 20,
   "id": "5dd8f05f-24b5-4e12-943c-fc34bb2e967e",
   "metadata": {},
   "outputs": [
    {
     "name": "stdout",
     "output_type": "stream",
     "text": [
      "1\n",
      "2\n",
      "3\n",
      "4\n",
      "5\n",
      "6\n",
      "7\n",
      "8\n",
      "9\n",
      "10\n",
      "11\n",
      "12\n",
      "13\n",
      "14\n",
      "15\n",
      "16\n",
      "17\n",
      "18\n",
      "19\n",
      "20\n",
      "21\n",
      "22\n",
      "23\n",
      "24\n",
      "25\n",
      "26\n",
      "27\n",
      "28\n",
      "29\n",
      "30\n",
      "31\n",
      "32\n",
      "33\n",
      "34\n",
      "35\n",
      "36\n",
      "37\n",
      "38\n",
      "39\n",
      "40\n",
      "41\n",
      "42\n",
      "43\n",
      "44\n",
      "45\n",
      "46\n",
      "47\n",
      "48\n",
      "49\n",
      "50\n",
      "51\n",
      "52\n",
      "53\n",
      "54\n",
      "55\n",
      "56\n",
      "57\n",
      "58\n",
      "59\n",
      "60\n",
      "61\n",
      "62\n",
      "63\n",
      "64\n",
      "65\n",
      "66\n",
      "67\n",
      "68\n",
      "69\n",
      "70\n",
      "71\n",
      "72\n",
      "73\n",
      "74\n",
      "75\n",
      "76\n",
      "77\n",
      "78\n",
      "79\n",
      "80\n",
      "81\n",
      "82\n",
      "83\n",
      "84\n",
      "85\n",
      "86\n",
      "87\n",
      "88\n",
      "89\n",
      "90\n",
      "91\n",
      "92\n",
      "93\n",
      "94\n",
      "95\n",
      "96\n",
      "97\n",
      "98\n",
      "99\n",
      "100\n"
     ]
    }
   ],
   "source": [
    "'''Q11.Write a for loop to print numbers from 1 to 100:'''\n",
    "for i in range(1, 101):\n",
    "    print(i)\n"
   ]
  },
  {
   "cell_type": "code",
   "execution_count": 22,
   "id": "0c181827-7f23-4ece-8fe7-0562c7139333",
   "metadata": {},
   "outputs": [
    {
     "name": "stdout",
     "output_type": "stream",
     "text": [
      "Sum of even numbers: 62750\n"
     ]
    }
   ],
   "source": [
    "'''Q12.Write a Python program to find the sum of all even numbers between 1 and 500:'''\n",
    "even_sum = sum(i for i in range(1, 501) if i % 2 == 0)\n",
    "print(\"Sum of even numbers:\", even_sum)\n"
   ]
  },
  {
   "cell_type": "code",
   "execution_count": 24,
   "id": "30d1837d-b37a-4924-b934-0a4a9264a7e4",
   "metadata": {},
   "outputs": [
    {
     "name": "stdin",
     "output_type": "stream",
     "text": [
      "Enter a string:  PWSKILLS\n"
     ]
    },
    {
     "name": "stdout",
     "output_type": "stream",
     "text": [
      "Reversed string: SLLIKSWP\n"
     ]
    }
   ],
   "source": [
    "'''Q13.Write a program to reverse a string using a while loop: '''\n",
    "string = input(\"Enter a string: \")\n",
    "reversed_string = \"\"\n",
    "i = len(string) - 1\n",
    "while i >= 0:\n",
    "    reversed_string += string[i]\n",
    "    i -= 1\n",
    "print(\"Reversed string:\", reversed_string)\n"
   ]
  },
  {
   "cell_type": "code",
   "execution_count": 32,
   "id": "7b6b7202-2e1a-47a2-836e-1d7c6ccf400d",
   "metadata": {},
   "outputs": [
    {
     "name": "stdin",
     "output_type": "stream",
     "text": [
      "Enter a number:  5\n"
     ]
    },
    {
     "name": "stdout",
     "output_type": "stream",
     "text": [
      "Factorial of 5 is 120\n"
     ]
    }
   ],
   "source": [
    "'''Q14.Write a Python program to calculate the factorial of a number provided by the user using a while loop:'''\n",
    "num = int(input(\"Enter a number: \"))\n",
    "factorial = 1\n",
    "i = num\n",
    "while i > 0:\n",
    "    factorial *= i\n",
    "    i -= 1\n",
    "print(f\"Factorial of {num} is {factorial}\")\n"
   ]
  },
  {
   "cell_type": "code",
   "execution_count": null,
   "id": "13beab43-ac1e-4ebc-87a6-006601fabe17",
   "metadata": {},
   "outputs": [],
   "source": []
  }
 ],
 "metadata": {
  "kernelspec": {
   "display_name": "Python [conda env:base] *",
   "language": "python",
   "name": "conda-base-py"
  },
  "language_info": {
   "codemirror_mode": {
    "name": "ipython",
    "version": 3
   },
   "file_extension": ".py",
   "mimetype": "text/x-python",
   "name": "python",
   "nbconvert_exporter": "python",
   "pygments_lexer": "ipython3",
   "version": "3.12.7"
  }
 },
 "nbformat": 4,
 "nbformat_minor": 5
}
